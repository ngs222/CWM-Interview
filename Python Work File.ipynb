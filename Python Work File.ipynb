{
 "metadata": {
  "language_info": {
   "codemirror_mode": {
    "name": "ipython",
    "version": 3
   },
   "file_extension": ".py",
   "mimetype": "text/x-python",
   "name": "python",
   "nbconvert_exporter": "python",
   "pygments_lexer": "ipython3",
   "version": "3.9.1-final"
  },
  "orig_nbformat": 2,
  "kernelspec": {
   "name": "Python 3.9.1 64-bit",
   "display_name": "Python 3.9.1 64-bit",
   "metadata": {
    "interpreter": {
     "hash": "aee8b7b246df8f9039afb4144a1f6fd8d2ca17a180786b69acc140d282b71a49"
    }
   }
  }
 },
 "nbformat": 4,
 "nbformat_minor": 2,
 "cells": [
  {
   "cell_type": "markdown",
   "metadata": {},
   "source": [
    "# Noah Sutherland CWM-Interview"
   ]
  },
  {
   "cell_type": "markdown",
   "metadata": {},
   "source": [
    "## Imports"
   ]
  },
  {
   "cell_type": "code",
   "execution_count": 28,
   "metadata": {},
   "outputs": [],
   "source": [
    "import pandas as pd \n",
    "import numpy as np \n",
    "import seaborn as sns \n",
    "from statsmodels.formula.api import ols as sm_ols\n",
    "import yfinance as yf\n",
    "from yahoofinancials import YahooFinancials"
   ]
  },
  {
   "cell_type": "markdown",
   "metadata": {},
   "source": [
    "## Download Price Information (Yahoo Finance)"
   ]
  },
  {
   "cell_type": "code",
   "execution_count": 29,
   "metadata": {},
   "outputs": [],
   "source": [
    "# SPY price download from 03/31/2017 - 03/31/2022\n",
    "SPY_df = yf.download('SPY', start = '2017-03-31', end = '2022-03-31', progress = False)\n",
    "# XLV price download from 03/31/2017 - 03/31/2022\n",
    "XLV_df = yf.download('XLV', start = '2017-03-31', end = '2022-03-31', progress = False)\n",
    "# TLT price download from 03/31/2017 - 03/31/2022\n",
    "TLT_df = yf.download('TLT', start = '2017-03-31', end = '2022-03-31', progress = False)\n",
    "# BIL price download from 03/31/2017 - 03/31/2022\n",
    "BIL_df = yf.download('BIL', start = '2017-03-31', end = '2022-03-31', progress = False)\n",
    "# DBC price download from 03/31/2017 - 03/31/2022\n",
    "DBC_df = yf.download('DBC', start = '2017-03-31', end = '2022-03-31', progress = False)\n",
    "# MUB price download from 03/31/2017 - 03/31/2022\n",
    "MUB_df = yf.download('MUB', start = '2017-03-31', end = '2022-03-31', progress = False)"
   ]
  },
  {
   "cell_type": "markdown",
   "metadata": {},
   "source": [
    "## Monthly Returns"
   ]
  },
  {
   "cell_type": "markdown",
   "metadata": {},
   "source": [
    "### SPY"
   ]
  },
  {
   "cell_type": "code",
   "execution_count": 30,
   "metadata": {},
   "outputs": [],
   "source": [
    "# SPY monthly return calculation\n",
    "SPY_monthly_returns = SPY_df['Adj Close'].resample('M').ffill().pct_change()\n",
    "SPY_monthly_returns.drop(['2017-03-31'], inplace = True)"
   ]
  },
  {
   "cell_type": "markdown",
   "metadata": {},
   "source": [
    "### XLV"
   ]
  },
  {
   "cell_type": "code",
   "execution_count": 31,
   "metadata": {},
   "outputs": [],
   "source": [
    "# XLV monthly return calculation\n",
    "XLV_monthly_returns = XLV_df['Adj Close'].resample('M').ffill().pct_change()\n",
    "XLV_monthly_returns.drop(['2017-03-31'], inplace = True)"
   ]
  },
  {
   "cell_type": "markdown",
   "metadata": {},
   "source": [
    "### TLT"
   ]
  },
  {
   "cell_type": "code",
   "execution_count": 32,
   "metadata": {},
   "outputs": [],
   "source": [
    "# TLT monthly return calculation\n",
    "TLT_monthly_returns = TLT_df['Adj Close'].resample('M').ffill().pct_change()\n",
    "TLT_monthly_returns.drop(['2017-03-31'], inplace = True)"
   ]
  },
  {
   "cell_type": "markdown",
   "metadata": {},
   "source": [
    "### BIL"
   ]
  },
  {
   "cell_type": "code",
   "execution_count": 33,
   "metadata": {},
   "outputs": [],
   "source": [
    "# BIL monthly return calculation\n",
    "BIL_monthly_returns = BIL_df['Adj Close'].resample('M').ffill().pct_change()\n",
    "BIL_monthly_returns.drop(['2017-03-31'], inplace = True)"
   ]
  },
  {
   "cell_type": "markdown",
   "metadata": {},
   "source": [
    "### DBC"
   ]
  },
  {
   "cell_type": "code",
   "execution_count": 34,
   "metadata": {},
   "outputs": [],
   "source": [
    "# DBC monthly return calculation\n",
    "DBC_monthly_returns = DBC_df['Adj Close'].resample('M').ffill().pct_change()\n",
    "DBC_monthly_returns.drop(['2017-03-31'], inplace = True)"
   ]
  },
  {
   "cell_type": "markdown",
   "metadata": {},
   "source": [
    "### MUB"
   ]
  },
  {
   "cell_type": "code",
   "execution_count": 35,
   "metadata": {},
   "outputs": [],
   "source": [
    "# MUB monthly return calculation\n",
    "MUB_monthly_returns = MUB_df['Adj Close'].resample('M').ffill().pct_change()\n",
    "MUB_monthly_returns.drop(['2017-03-31'], inplace = True)"
   ]
  },
  {
   "cell_type": "code",
   "execution_count": 36,
   "metadata": {},
   "outputs": [
    {
     "output_type": "stream",
     "name": "stderr",
     "text": [
      "/var/folders/w3/3g6wsn0n125chnk_vvxdndl40000gn/T/ipykernel_97531/2691910606.py:4: FutureWarning: In a future version of pandas all arguments of DataFrame.drop except for the argument 'labels' will be keyword-only.\n  monthly_df = monthly_df.drop('_merge', 1)\n/var/folders/w3/3g6wsn0n125chnk_vvxdndl40000gn/T/ipykernel_97531/2691910606.py:7: FutureWarning: In a future version of pandas all arguments of DataFrame.drop except for the argument 'labels' will be keyword-only.\n  monthly_df = monthly_df.drop('_merge', 1)\n/var/folders/w3/3g6wsn0n125chnk_vvxdndl40000gn/T/ipykernel_97531/2691910606.py:10: FutureWarning: In a future version of pandas all arguments of DataFrame.drop except for the argument 'labels' will be keyword-only.\n  monthly_df = monthly_df.drop('_merge', 1)\n/var/folders/w3/3g6wsn0n125chnk_vvxdndl40000gn/T/ipykernel_97531/2691910606.py:13: FutureWarning: In a future version of pandas all arguments of DataFrame.drop except for the argument 'labels' will be keyword-only.\n  monthly_df = monthly_df.drop('_merge', 1)\n/var/folders/w3/3g6wsn0n125chnk_vvxdndl40000gn/T/ipykernel_97531/2691910606.py:16: FutureWarning: In a future version of pandas all arguments of DataFrame.drop except for the argument 'labels' will be keyword-only.\n  monthly_df = monthly_df.drop('_merge', 1)\n"
     ]
    },
    {
     "output_type": "execute_result",
     "data": {
      "text/plain": [
       "            SPY Monthly Returns  XLV Monthly Returns  TLT Monthly Returns  \\\n",
       "Date                                                                        \n",
       "2017-04-30             0.009926             0.015331             0.015732   \n",
       "2017-05-31             0.014113             0.007682             0.018879   \n",
       "2017-06-30             0.006375             0.045671             0.007919   \n",
       "2017-07-31             0.020554             0.008203            -0.006583   \n",
       "2017-08-31             0.002918             0.017524             0.034087   \n",
       "2017-09-30             0.020150             0.009114            -0.023229   \n",
       "2017-10-31             0.023564            -0.007586            -0.000385   \n",
       "2017-11-30             0.030566             0.029097             0.007432   \n",
       "2017-12-31             0.012128            -0.005505             0.018126   \n",
       "2018-01-31             0.056359             0.065554            -0.032555   \n",
       "2018-02-28            -0.036360            -0.044949            -0.030414   \n",
       "2018-03-31            -0.027411            -0.029166             0.028596   \n",
       "2018-04-30             0.005169             0.010565            -0.020881   \n",
       "2018-05-31             0.024309             0.001824             0.020044   \n",
       "2018-06-30             0.005751             0.016493             0.006458   \n",
       "2018-07-31             0.037047             0.065540            -0.014369   \n",
       "2018-08-31             0.031920             0.043293             0.013120   \n",
       "2018-09-30             0.005946             0.029542            -0.028643   \n",
       "2018-10-31            -0.069104            -0.067788            -0.029305   \n",
       "2018-11-30             0.018549             0.080834             0.017872   \n",
       "2018-12-31            -0.088048            -0.093536             0.058535   \n",
       "2019-01-31             0.080066             0.048087             0.003786   \n",
       "2019-02-28             0.032416             0.010808            -0.013764   \n",
       "2019-03-31             0.018101             0.004819             0.055717   \n",
       "2019-04-30             0.040852            -0.027139            -0.019911   \n",
       "2019-05-31            -0.063771            -0.022182             0.068392   \n",
       "2019-06-30             0.069587             0.065940             0.009501   \n",
       "2019-07-31             0.015119            -0.016192             0.002565   \n",
       "2019-08-31            -0.016744            -0.005925             0.110492   \n",
       "2019-09-30             0.019458            -0.001056            -0.026799   \n",
       "2019-10-31             0.022105             0.051259            -0.011132   \n",
       "2019-11-30             0.036198             0.050027            -0.004071   \n",
       "2019-12-31             0.029055             0.034753            -0.031975   \n",
       "2020-01-31            -0.000404            -0.026703             0.076912   \n",
       "2020-02-29            -0.079166            -0.065867             0.066265   \n",
       "2020-03-31            -0.124871            -0.038874             0.063767   \n",
       "2020-04-30             0.126984             0.125875             0.012189   \n",
       "2020-05-31             0.047645             0.032889            -0.017619   \n",
       "2020-06-30             0.017734            -0.024426             0.003366   \n",
       "2020-07-31             0.058892             0.054562             0.044352   \n",
       "2020-08-31             0.069797             0.025870            -0.050465   \n",
       "2020-09-30            -0.037444            -0.021805             0.007734   \n",
       "2020-10-31            -0.024934            -0.036215            -0.033852   \n",
       "2020-11-30             0.108777             0.079481             0.016639   \n",
       "2020-12-31             0.037048             0.037978            -0.012276   \n",
       "2021-01-31            -0.010190             0.014016            -0.036328   \n",
       "2021-02-28             0.027805            -0.021038            -0.057330   \n",
       "2021-03-31             0.045399             0.040273            -0.052453   \n",
       "2021-04-30             0.052910             0.039318             0.024951   \n",
       "2021-05-31             0.006566             0.018709             0.000022   \n",
       "2021-06-30             0.022427             0.022989             0.044191   \n",
       "2021-07-31             0.024412             0.049226             0.037167   \n",
       "2021-08-31             0.029760             0.023156            -0.003402   \n",
       "2021-09-30            -0.046605            -0.055184            -0.029070   \n",
       "2021-10-31             0.070163             0.051218             0.024650   \n",
       "2021-11-30            -0.008035            -0.030564             0.027715   \n",
       "2021-12-31             0.046248             0.090199            -0.020138   \n",
       "2022-01-31            -0.052741            -0.068564            -0.039139   \n",
       "2022-02-28            -0.029517            -0.009678            -0.016330   \n",
       "2022-03-31             0.053810             0.067802            -0.056735   \n",
       "\n",
       "            BIL Monthly Returns  DBC Monthly Returns  MUB Monthly Returns  \n",
       "Date                                                                       \n",
       "2017-04-30             0.000744            -0.026956             0.005408  \n",
       "2017-05-31             0.000153            -0.014189             0.015332  \n",
       "2017-06-30             0.001029            -0.009596            -0.004195  \n",
       "2017-07-31             0.000328             0.040831             0.008753  \n",
       "2017-08-31             0.001138             0.003989             0.007997  \n",
       "2017-09-30             0.000722             0.019868            -0.004275  \n",
       "2017-10-31             0.000700             0.039610             0.000895  \n",
       "2017-11-30             0.000547             0.009369            -0.004676  \n",
       "2017-12-31             0.000744             0.027847             0.010140  \n",
       "2018-01-31             0.001313             0.029500            -0.011468  \n",
       "2018-02-28             0.000831            -0.029240            -0.006022  \n",
       "2018-03-31             0.001301             0.022892             0.004936  \n",
       "2018-04-30             0.001039             0.034158            -0.006917  \n",
       "2018-05-31             0.001498             0.026765             0.012509  \n",
       "2018-06-30             0.001487            -0.019412             0.001378  \n",
       "2018-07-31             0.001389            -0.024321             0.001498  \n",
       "2018-08-31             0.001585             0.007536             0.001555  \n",
       "2018-09-30             0.001400             0.033947            -0.006818  \n",
       "2018-10-31             0.001706            -0.056205            -0.005599  \n",
       "2018-11-30             0.001859            -0.098467             0.011109  \n",
       "2018-12-31             0.001828            -0.040013             0.013475  \n",
       "2019-01-31             0.001749             0.071084             0.003760  \n",
       "2019-02-28             0.001848             0.028350             0.005439  \n",
       "2019-03-31             0.001750            -0.003759             0.014850  \n",
       "2019-04-30             0.001925             0.011950             0.005273  \n",
       "2019-05-31             0.002122            -0.059664             0.014060  \n",
       "2019-06-30             0.001815             0.039656             0.004084  \n",
       "2019-07-31             0.001804            -0.011443             0.007346  \n",
       "2019-08-31             0.001695            -0.046302             0.015300  \n",
       "2019-09-30             0.001619             0.014160            -0.007636  \n",
       "2019-10-31             0.001607             0.019282             0.002950  \n",
       "2019-11-30             0.001082            -0.001305             0.000553  \n",
       "2019-12-31             0.001116             0.058492             0.002628  \n",
       "2020-01-31             0.001203            -0.085893             0.016592  \n",
       "2020-02-29             0.001181            -0.066530             0.009733  \n",
       "2020-03-31             0.002045            -0.173402            -0.029807  \n",
       "2020-04-30            -0.000196            -0.031111            -0.013770  \n",
       "2020-05-31            -0.000175             0.080734             0.037654  \n",
       "2020-06-30             0.000000             0.044992             0.003635  \n",
       "2020-07-31             0.000109             0.051178             0.014462  \n",
       "2020-08-31             0.000000             0.046368            -0.005880  \n",
       "2020-09-30            -0.000219            -0.035450             0.001244  \n",
       "2020-10-31             0.000109            -0.031394            -0.005202  \n",
       "2020-11-30            -0.000109             0.101976             0.016246  \n",
       "2020-12-31             0.000033             0.054519             0.006753  \n",
       "2021-01-31             0.000000             0.033333             0.003413  \n",
       "2021-02-28            -0.000109             0.101382            -0.015568  \n",
       "2021-03-31            -0.000109            -0.007173             0.005676  \n",
       "2021-04-30             0.000000             0.078266             0.007612  \n",
       "2021-05-31            -0.000109             0.038526             0.003449  \n",
       "2021-06-30            -0.000219             0.034946             0.003485  \n",
       "2021-07-31            -0.000109             0.012987             0.004597  \n",
       "2021-08-31            -0.000109            -0.016410            -0.001951  \n",
       "2021-09-30             0.000109             0.052138            -0.007052  \n",
       "2021-10-31            -0.000109             0.057978            -0.000483  \n",
       "2021-11-30            -0.000219            -0.087588             0.007264  \n",
       "2021-12-31             0.000000             0.066735            -0.000069  \n",
       "2022-01-31             0.000000             0.078922            -0.024080  \n",
       "2022-02-28            -0.000219             0.064674            -0.005312  \n",
       "2022-03-31             0.000460             0.112275            -0.026798  "
      ],
      "text/html": "<div>\n<style scoped>\n    .dataframe tbody tr th:only-of-type {\n        vertical-align: middle;\n    }\n\n    .dataframe tbody tr th {\n        vertical-align: top;\n    }\n\n    .dataframe thead th {\n        text-align: right;\n    }\n</style>\n<table border=\"1\" class=\"dataframe\">\n  <thead>\n    <tr style=\"text-align: right;\">\n      <th></th>\n      <th>SPY Monthly Returns</th>\n      <th>XLV Monthly Returns</th>\n      <th>TLT Monthly Returns</th>\n      <th>BIL Monthly Returns</th>\n      <th>DBC Monthly Returns</th>\n      <th>MUB Monthly Returns</th>\n    </tr>\n    <tr>\n      <th>Date</th>\n      <th></th>\n      <th></th>\n      <th></th>\n      <th></th>\n      <th></th>\n      <th></th>\n    </tr>\n  </thead>\n  <tbody>\n    <tr>\n      <th>2017-04-30</th>\n      <td>0.009926</td>\n      <td>0.015331</td>\n      <td>0.015732</td>\n      <td>0.000744</td>\n      <td>-0.026956</td>\n      <td>0.005408</td>\n    </tr>\n    <tr>\n      <th>2017-05-31</th>\n      <td>0.014113</td>\n      <td>0.007682</td>\n      <td>0.018879</td>\n      <td>0.000153</td>\n      <td>-0.014189</td>\n      <td>0.015332</td>\n    </tr>\n    <tr>\n      <th>2017-06-30</th>\n      <td>0.006375</td>\n      <td>0.045671</td>\n      <td>0.007919</td>\n      <td>0.001029</td>\n      <td>-0.009596</td>\n      <td>-0.004195</td>\n    </tr>\n    <tr>\n      <th>2017-07-31</th>\n      <td>0.020554</td>\n      <td>0.008203</td>\n      <td>-0.006583</td>\n      <td>0.000328</td>\n      <td>0.040831</td>\n      <td>0.008753</td>\n    </tr>\n    <tr>\n      <th>2017-08-31</th>\n      <td>0.002918</td>\n      <td>0.017524</td>\n      <td>0.034087</td>\n      <td>0.001138</td>\n      <td>0.003989</td>\n      <td>0.007997</td>\n    </tr>\n    <tr>\n      <th>2017-09-30</th>\n      <td>0.020150</td>\n      <td>0.009114</td>\n      <td>-0.023229</td>\n      <td>0.000722</td>\n      <td>0.019868</td>\n      <td>-0.004275</td>\n    </tr>\n    <tr>\n      <th>2017-10-31</th>\n      <td>0.023564</td>\n      <td>-0.007586</td>\n      <td>-0.000385</td>\n      <td>0.000700</td>\n      <td>0.039610</td>\n      <td>0.000895</td>\n    </tr>\n    <tr>\n      <th>2017-11-30</th>\n      <td>0.030566</td>\n      <td>0.029097</td>\n      <td>0.007432</td>\n      <td>0.000547</td>\n      <td>0.009369</td>\n      <td>-0.004676</td>\n    </tr>\n    <tr>\n      <th>2017-12-31</th>\n      <td>0.012128</td>\n      <td>-0.005505</td>\n      <td>0.018126</td>\n      <td>0.000744</td>\n      <td>0.027847</td>\n      <td>0.010140</td>\n    </tr>\n    <tr>\n      <th>2018-01-31</th>\n      <td>0.056359</td>\n      <td>0.065554</td>\n      <td>-0.032555</td>\n      <td>0.001313</td>\n      <td>0.029500</td>\n      <td>-0.011468</td>\n    </tr>\n    <tr>\n      <th>2018-02-28</th>\n      <td>-0.036360</td>\n      <td>-0.044949</td>\n      <td>-0.030414</td>\n      <td>0.000831</td>\n      <td>-0.029240</td>\n      <td>-0.006022</td>\n    </tr>\n    <tr>\n      <th>2018-03-31</th>\n      <td>-0.027411</td>\n      <td>-0.029166</td>\n      <td>0.028596</td>\n      <td>0.001301</td>\n      <td>0.022892</td>\n      <td>0.004936</td>\n    </tr>\n    <tr>\n      <th>2018-04-30</th>\n      <td>0.005169</td>\n      <td>0.010565</td>\n      <td>-0.020881</td>\n      <td>0.001039</td>\n      <td>0.034158</td>\n      <td>-0.006917</td>\n    </tr>\n    <tr>\n      <th>2018-05-31</th>\n      <td>0.024309</td>\n      <td>0.001824</td>\n      <td>0.020044</td>\n      <td>0.001498</td>\n      <td>0.026765</td>\n      <td>0.012509</td>\n    </tr>\n    <tr>\n      <th>2018-06-30</th>\n      <td>0.005751</td>\n      <td>0.016493</td>\n      <td>0.006458</td>\n      <td>0.001487</td>\n      <td>-0.019412</td>\n      <td>0.001378</td>\n    </tr>\n    <tr>\n      <th>2018-07-31</th>\n      <td>0.037047</td>\n      <td>0.065540</td>\n      <td>-0.014369</td>\n      <td>0.001389</td>\n      <td>-0.024321</td>\n      <td>0.001498</td>\n    </tr>\n    <tr>\n      <th>2018-08-31</th>\n      <td>0.031920</td>\n      <td>0.043293</td>\n      <td>0.013120</td>\n      <td>0.001585</td>\n      <td>0.007536</td>\n      <td>0.001555</td>\n    </tr>\n    <tr>\n      <th>2018-09-30</th>\n      <td>0.005946</td>\n      <td>0.029542</td>\n      <td>-0.028643</td>\n      <td>0.001400</td>\n      <td>0.033947</td>\n      <td>-0.006818</td>\n    </tr>\n    <tr>\n      <th>2018-10-31</th>\n      <td>-0.069104</td>\n      <td>-0.067788</td>\n      <td>-0.029305</td>\n      <td>0.001706</td>\n      <td>-0.056205</td>\n      <td>-0.005599</td>\n    </tr>\n    <tr>\n      <th>2018-11-30</th>\n      <td>0.018549</td>\n      <td>0.080834</td>\n      <td>0.017872</td>\n      <td>0.001859</td>\n      <td>-0.098467</td>\n      <td>0.011109</td>\n    </tr>\n    <tr>\n      <th>2018-12-31</th>\n      <td>-0.088048</td>\n      <td>-0.093536</td>\n      <td>0.058535</td>\n      <td>0.001828</td>\n      <td>-0.040013</td>\n      <td>0.013475</td>\n    </tr>\n    <tr>\n      <th>2019-01-31</th>\n      <td>0.080066</td>\n      <td>0.048087</td>\n      <td>0.003786</td>\n      <td>0.001749</td>\n      <td>0.071084</td>\n      <td>0.003760</td>\n    </tr>\n    <tr>\n      <th>2019-02-28</th>\n      <td>0.032416</td>\n      <td>0.010808</td>\n      <td>-0.013764</td>\n      <td>0.001848</td>\n      <td>0.028350</td>\n      <td>0.005439</td>\n    </tr>\n    <tr>\n      <th>2019-03-31</th>\n      <td>0.018101</td>\n      <td>0.004819</td>\n      <td>0.055717</td>\n      <td>0.001750</td>\n      <td>-0.003759</td>\n      <td>0.014850</td>\n    </tr>\n    <tr>\n      <th>2019-04-30</th>\n      <td>0.040852</td>\n      <td>-0.027139</td>\n      <td>-0.019911</td>\n      <td>0.001925</td>\n      <td>0.011950</td>\n      <td>0.005273</td>\n    </tr>\n    <tr>\n      <th>2019-05-31</th>\n      <td>-0.063771</td>\n      <td>-0.022182</td>\n      <td>0.068392</td>\n      <td>0.002122</td>\n      <td>-0.059664</td>\n      <td>0.014060</td>\n    </tr>\n    <tr>\n      <th>2019-06-30</th>\n      <td>0.069587</td>\n      <td>0.065940</td>\n      <td>0.009501</td>\n      <td>0.001815</td>\n      <td>0.039656</td>\n      <td>0.004084</td>\n    </tr>\n    <tr>\n      <th>2019-07-31</th>\n      <td>0.015119</td>\n      <td>-0.016192</td>\n      <td>0.002565</td>\n      <td>0.001804</td>\n      <td>-0.011443</td>\n      <td>0.007346</td>\n    </tr>\n    <tr>\n      <th>2019-08-31</th>\n      <td>-0.016744</td>\n      <td>-0.005925</td>\n      <td>0.110492</td>\n      <td>0.001695</td>\n      <td>-0.046302</td>\n      <td>0.015300</td>\n    </tr>\n    <tr>\n      <th>2019-09-30</th>\n      <td>0.019458</td>\n      <td>-0.001056</td>\n      <td>-0.026799</td>\n      <td>0.001619</td>\n      <td>0.014160</td>\n      <td>-0.007636</td>\n    </tr>\n    <tr>\n      <th>2019-10-31</th>\n      <td>0.022105</td>\n      <td>0.051259</td>\n      <td>-0.011132</td>\n      <td>0.001607</td>\n      <td>0.019282</td>\n      <td>0.002950</td>\n    </tr>\n    <tr>\n      <th>2019-11-30</th>\n      <td>0.036198</td>\n      <td>0.050027</td>\n      <td>-0.004071</td>\n      <td>0.001082</td>\n      <td>-0.001305</td>\n      <td>0.000553</td>\n    </tr>\n    <tr>\n      <th>2019-12-31</th>\n      <td>0.029055</td>\n      <td>0.034753</td>\n      <td>-0.031975</td>\n      <td>0.001116</td>\n      <td>0.058492</td>\n      <td>0.002628</td>\n    </tr>\n    <tr>\n      <th>2020-01-31</th>\n      <td>-0.000404</td>\n      <td>-0.026703</td>\n      <td>0.076912</td>\n      <td>0.001203</td>\n      <td>-0.085893</td>\n      <td>0.016592</td>\n    </tr>\n    <tr>\n      <th>2020-02-29</th>\n      <td>-0.079166</td>\n      <td>-0.065867</td>\n      <td>0.066265</td>\n      <td>0.001181</td>\n      <td>-0.066530</td>\n      <td>0.009733</td>\n    </tr>\n    <tr>\n      <th>2020-03-31</th>\n      <td>-0.124871</td>\n      <td>-0.038874</td>\n      <td>0.063767</td>\n      <td>0.002045</td>\n      <td>-0.173402</td>\n      <td>-0.029807</td>\n    </tr>\n    <tr>\n      <th>2020-04-30</th>\n      <td>0.126984</td>\n      <td>0.125875</td>\n      <td>0.012189</td>\n      <td>-0.000196</td>\n      <td>-0.031111</td>\n      <td>-0.013770</td>\n    </tr>\n    <tr>\n      <th>2020-05-31</th>\n      <td>0.047645</td>\n      <td>0.032889</td>\n      <td>-0.017619</td>\n      <td>-0.000175</td>\n      <td>0.080734</td>\n      <td>0.037654</td>\n    </tr>\n    <tr>\n      <th>2020-06-30</th>\n      <td>0.017734</td>\n      <td>-0.024426</td>\n      <td>0.003366</td>\n      <td>0.000000</td>\n      <td>0.044992</td>\n      <td>0.003635</td>\n    </tr>\n    <tr>\n      <th>2020-07-31</th>\n      <td>0.058892</td>\n      <td>0.054562</td>\n      <td>0.044352</td>\n      <td>0.000109</td>\n      <td>0.051178</td>\n      <td>0.014462</td>\n    </tr>\n    <tr>\n      <th>2020-08-31</th>\n      <td>0.069797</td>\n      <td>0.025870</td>\n      <td>-0.050465</td>\n      <td>0.000000</td>\n      <td>0.046368</td>\n      <td>-0.005880</td>\n    </tr>\n    <tr>\n      <th>2020-09-30</th>\n      <td>-0.037444</td>\n      <td>-0.021805</td>\n      <td>0.007734</td>\n      <td>-0.000219</td>\n      <td>-0.035450</td>\n      <td>0.001244</td>\n    </tr>\n    <tr>\n      <th>2020-10-31</th>\n      <td>-0.024934</td>\n      <td>-0.036215</td>\n      <td>-0.033852</td>\n      <td>0.000109</td>\n      <td>-0.031394</td>\n      <td>-0.005202</td>\n    </tr>\n    <tr>\n      <th>2020-11-30</th>\n      <td>0.108777</td>\n      <td>0.079481</td>\n      <td>0.016639</td>\n      <td>-0.000109</td>\n      <td>0.101976</td>\n      <td>0.016246</td>\n    </tr>\n    <tr>\n      <th>2020-12-31</th>\n      <td>0.037048</td>\n      <td>0.037978</td>\n      <td>-0.012276</td>\n      <td>0.000033</td>\n      <td>0.054519</td>\n      <td>0.006753</td>\n    </tr>\n    <tr>\n      <th>2021-01-31</th>\n      <td>-0.010190</td>\n      <td>0.014016</td>\n      <td>-0.036328</td>\n      <td>0.000000</td>\n      <td>0.033333</td>\n      <td>0.003413</td>\n    </tr>\n    <tr>\n      <th>2021-02-28</th>\n      <td>0.027805</td>\n      <td>-0.021038</td>\n      <td>-0.057330</td>\n      <td>-0.000109</td>\n      <td>0.101382</td>\n      <td>-0.015568</td>\n    </tr>\n    <tr>\n      <th>2021-03-31</th>\n      <td>0.045399</td>\n      <td>0.040273</td>\n      <td>-0.052453</td>\n      <td>-0.000109</td>\n      <td>-0.007173</td>\n      <td>0.005676</td>\n    </tr>\n    <tr>\n      <th>2021-04-30</th>\n      <td>0.052910</td>\n      <td>0.039318</td>\n      <td>0.024951</td>\n      <td>0.000000</td>\n      <td>0.078266</td>\n      <td>0.007612</td>\n    </tr>\n    <tr>\n      <th>2021-05-31</th>\n      <td>0.006566</td>\n      <td>0.018709</td>\n      <td>0.000022</td>\n      <td>-0.000109</td>\n      <td>0.038526</td>\n      <td>0.003449</td>\n    </tr>\n    <tr>\n      <th>2021-06-30</th>\n      <td>0.022427</td>\n      <td>0.022989</td>\n      <td>0.044191</td>\n      <td>-0.000219</td>\n      <td>0.034946</td>\n      <td>0.003485</td>\n    </tr>\n    <tr>\n      <th>2021-07-31</th>\n      <td>0.024412</td>\n      <td>0.049226</td>\n      <td>0.037167</td>\n      <td>-0.000109</td>\n      <td>0.012987</td>\n      <td>0.004597</td>\n    </tr>\n    <tr>\n      <th>2021-08-31</th>\n      <td>0.029760</td>\n      <td>0.023156</td>\n      <td>-0.003402</td>\n      <td>-0.000109</td>\n      <td>-0.016410</td>\n      <td>-0.001951</td>\n    </tr>\n    <tr>\n      <th>2021-09-30</th>\n      <td>-0.046605</td>\n      <td>-0.055184</td>\n      <td>-0.029070</td>\n      <td>0.000109</td>\n      <td>0.052138</td>\n      <td>-0.007052</td>\n    </tr>\n    <tr>\n      <th>2021-10-31</th>\n      <td>0.070163</td>\n      <td>0.051218</td>\n      <td>0.024650</td>\n      <td>-0.000109</td>\n      <td>0.057978</td>\n      <td>-0.000483</td>\n    </tr>\n    <tr>\n      <th>2021-11-30</th>\n      <td>-0.008035</td>\n      <td>-0.030564</td>\n      <td>0.027715</td>\n      <td>-0.000219</td>\n      <td>-0.087588</td>\n      <td>0.007264</td>\n    </tr>\n    <tr>\n      <th>2021-12-31</th>\n      <td>0.046248</td>\n      <td>0.090199</td>\n      <td>-0.020138</td>\n      <td>0.000000</td>\n      <td>0.066735</td>\n      <td>-0.000069</td>\n    </tr>\n    <tr>\n      <th>2022-01-31</th>\n      <td>-0.052741</td>\n      <td>-0.068564</td>\n      <td>-0.039139</td>\n      <td>0.000000</td>\n      <td>0.078922</td>\n      <td>-0.024080</td>\n    </tr>\n    <tr>\n      <th>2022-02-28</th>\n      <td>-0.029517</td>\n      <td>-0.009678</td>\n      <td>-0.016330</td>\n      <td>-0.000219</td>\n      <td>0.064674</td>\n      <td>-0.005312</td>\n    </tr>\n    <tr>\n      <th>2022-03-31</th>\n      <td>0.053810</td>\n      <td>0.067802</td>\n      <td>-0.056735</td>\n      <td>0.000460</td>\n      <td>0.112275</td>\n      <td>-0.026798</td>\n    </tr>\n  </tbody>\n</table>\n</div>"
     },
     "metadata": {},
     "execution_count": 36
    }
   ],
   "source": [
    "monthly_df = pd.merge(SPY_monthly_returns, XLV_monthly_returns, how = 'left', indicator = True, on = 'Date', validate = 'one_to_many') \n",
    "monthly_df.rename(columns = {'Adj Close_x':'SPY Monthly Returns'}, inplace = True)\n",
    "monthly_df.rename(columns = {'Adj Close_y':'XLV Monthly Returns'}, inplace = True)\n",
    "monthly_df = monthly_df.drop('_merge', 1)\n",
    "monthly_df = pd.merge(monthly_df, TLT_monthly_returns, how = 'left', indicator = True, on = 'Date', validate = 'one_to_many') \n",
    "monthly_df.rename(columns = {'Adj Close':'TLT Monthly Returns'}, inplace = True)\n",
    "monthly_df = monthly_df.drop('_merge', 1)\n",
    "monthly_df = pd.merge(monthly_df, BIL_monthly_returns, how = 'left', indicator = True, on = 'Date', validate = 'one_to_many') \n",
    "monthly_df.rename(columns = {'Adj Close':'BIL Monthly Returns'}, inplace = True)\n",
    "monthly_df = monthly_df.drop('_merge', 1)\n",
    "monthly_df = pd.merge(monthly_df, DBC_monthly_returns, how = 'left', indicator = True, on = 'Date', validate = 'one_to_many') \n",
    "monthly_df.rename(columns = {'Adj Close':'DBC Monthly Returns'}, inplace = True)\n",
    "monthly_df = monthly_df.drop('_merge', 1)\n",
    "monthly_df = pd.merge(monthly_df, MUB_monthly_returns, how = 'left', indicator = True, on = 'Date', validate = 'one_to_many') \n",
    "monthly_df.rename(columns = {'Adj Close':'MUB Monthly Returns'}, inplace = True)\n",
    "monthly_df = monthly_df.drop('_merge', 1)\n",
    "monthly_df"
   ]
  },
  {
   "cell_type": "markdown",
   "metadata": {},
   "source": [
    "## Avg. Monthly and Annualized Return"
   ]
  },
  {
   "cell_type": "markdown",
   "metadata": {},
   "source": [
    "## STD/Volatility (Monthly and Annualized)"
   ]
  },
  {
   "cell_type": "markdown",
   "metadata": {},
   "source": [
    "## Correlations Between Each Ticker"
   ]
  },
  {
   "cell_type": "markdown",
   "metadata": {},
   "source": [
    "## Worst and Best Month"
   ]
  }
 ]
}